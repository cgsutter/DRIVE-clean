{
 "cells": [
  {
   "cell_type": "code",
   "execution_count": 1,
   "metadata": {},
   "outputs": [],
   "source": [
    "import os\n",
    "import numpy as np\n",
    "import pandas as pd\n",
    "pd.set_option(\"display.max_columns\", None)  # Show all columns\n",
    "pd.set_option(\"display.width\", None)        # Use full width of the console\n",
    "pd.set_option(\"display.max_colwidth\", None)  # Show full content in each column"
   ]
  },
  {
   "cell_type": "markdown",
   "metadata": {},
   "source": [
    "### Checking counts of trained models (should be 30) per one desc (e.g. BL, or HT variety)"
   ]
  },
  {
   "cell_type": "code",
   "execution_count": 2,
   "metadata": {},
   "outputs": [],
   "source": [
    "# check which files are in a directory\n",
    "\n",
    "f = os.listdir(\"/home/csutter/DRIVE-clean/CNN/data_models\")"
   ]
  },
  {
   "cell_type": "code",
   "execution_count": 3,
   "metadata": {},
   "outputs": [
    {
     "name": "stdout",
     "output_type": "stream",
     "text": [
      "2404\n"
     ]
    }
   ],
   "source": [
    "print(len(f))"
   ]
  },
  {
   "cell_type": "code",
   "execution_count": 4,
   "metadata": {},
   "outputs": [
    {
     "data": {
      "text/plain": [
       "'nestcv_5cat_twotrain_OT1_m3_T5V0__A_mobilenet_TRLETrue_ASTFalse_L21e-07_DR0_8_E75_AugFalse'"
      ]
     },
     "execution_count": 4,
     "metadata": {},
     "output_type": "execute_result"
    }
   ],
   "source": [
    "f[3]"
   ]
  },
  {
   "cell_type": "code",
   "execution_count": 5,
   "metadata": {},
   "outputs": [],
   "source": [
    "descs = []\n",
    "for i in f:\n",
    "    e = i.find(\"__\")\n",
    "    d = i[e+2:]\n",
    "    descs.append(d)\n"
   ]
  },
  {
   "cell_type": "code",
   "execution_count": 6,
   "metadata": {},
   "outputs": [],
   "source": [
    "descs_np = np.unique(descs, return_counts=True)"
   ]
  },
  {
   "cell_type": "code",
   "execution_count": 7,
   "metadata": {},
   "outputs": [
    {
     "data": {
      "text/plain": [
       "array([30,  1, 30,  2, 30, 30, 30,  1, 30, 30, 30, 30, 30, 30, 30, 30, 30,\n",
       "       30, 30, 30, 30, 30, 30, 30, 30, 30, 30, 30, 30, 30, 30, 30, 30, 30,\n",
       "       30, 30, 30, 30, 30, 30, 30, 30, 30, 30, 30, 30, 30, 30, 30, 30, 30,\n",
       "       30, 30, 30, 30, 30, 30, 30, 30, 30, 30, 30, 30, 30, 30, 30, 30, 30,\n",
       "       30, 30, 30, 30, 30, 30, 30, 30, 30, 30, 30, 30, 30, 30, 30])"
      ]
     },
     "execution_count": 7,
     "metadata": {},
     "output_type": "execute_result"
    }
   ],
   "source": [
    "descs_np[1]"
   ]
  },
  {
   "cell_type": "code",
   "execution_count": 8,
   "metadata": {},
   "outputs": [],
   "source": [
    "descs_df = pd.DataFrame({\"desc\":descs_np[0],\"counts\":descs_np[1]})"
   ]
  },
  {
   "cell_type": "code",
   "execution_count": 9,
   "metadata": {},
   "outputs": [
    {
     "data": {
      "text/html": [
       "<div>\n",
       "<style scoped>\n",
       "    .dataframe tbody tr th:only-of-type {\n",
       "        vertical-align: middle;\n",
       "    }\n",
       "\n",
       "    .dataframe tbody tr th {\n",
       "        vertical-align: top;\n",
       "    }\n",
       "\n",
       "    .dataframe thead th {\n",
       "        text-align: right;\n",
       "    }\n",
       "</style>\n",
       "<table border=\"1\" class=\"dataframe\">\n",
       "  <thead>\n",
       "    <tr style=\"text-align: right;\">\n",
       "      <th></th>\n",
       "      <th>desc</th>\n",
       "      <th>counts</th>\n",
       "    </tr>\n",
       "  </thead>\n",
       "  <tbody>\n",
       "    <tr>\n",
       "      <th>1</th>\n",
       "      <td>A_densenet_TRLEFalse_ASTFalse_L20_DR0_E75_AugFalse_TESTAllFalse</td>\n",
       "      <td>1</td>\n",
       "    </tr>\n",
       "    <tr>\n",
       "      <th>3</th>\n",
       "      <td>A_densenet_TRLEFalse_ASTFalse_L20_DR0_E75_AugTrue_TESTAllFalse</td>\n",
       "      <td>2</td>\n",
       "    </tr>\n",
       "    <tr>\n",
       "      <th>7</th>\n",
       "      <td>A_densenet_TRLETrue_ASTTrue_L20_DR0_E75_AugFalse_SaveWeightsOnly</td>\n",
       "      <td>1</td>\n",
       "    </tr>\n",
       "  </tbody>\n",
       "</table>\n",
       "</div>"
      ],
      "text/plain": [
       "                                                               desc  counts\n",
       "1   A_densenet_TRLEFalse_ASTFalse_L20_DR0_E75_AugFalse_TESTAllFalse       1\n",
       "3    A_densenet_TRLEFalse_ASTFalse_L20_DR0_E75_AugTrue_TESTAllFalse       2\n",
       "7  A_densenet_TRLETrue_ASTTrue_L20_DR0_E75_AugFalse_SaveWeightsOnly       1"
      ]
     },
     "execution_count": 9,
     "metadata": {},
     "output_type": "execute_result"
    }
   ],
   "source": [
    "descs_df[descs_df[\"counts\"]!=30]"
   ]
  },
  {
   "cell_type": "code",
   "execution_count": 39,
   "metadata": {},
   "outputs": [
    {
     "data": {
      "text/html": [
       "<div>\n",
       "<style scoped>\n",
       "    .dataframe tbody tr th:only-of-type {\n",
       "        vertical-align: middle;\n",
       "    }\n",
       "\n",
       "    .dataframe tbody tr th {\n",
       "        vertical-align: top;\n",
       "    }\n",
       "\n",
       "    .dataframe thead th {\n",
       "        text-align: right;\n",
       "    }\n",
       "</style>\n",
       "<table border=\"1\" class=\"dataframe\">\n",
       "  <thead>\n",
       "    <tr style=\"text-align: right;\">\n",
       "      <th></th>\n",
       "      <th>desc</th>\n",
       "      <th>counts</th>\n",
       "    </tr>\n",
       "  </thead>\n",
       "  <tbody>\n",
       "    <tr>\n",
       "      <th>1</th>\n",
       "      <td>A_densenet_TRLEFalse_ASTFalse_L20_DR0_E75_AugFalse_TESTAllFalse</td>\n",
       "      <td>1</td>\n",
       "    </tr>\n",
       "    <tr>\n",
       "      <th>3</th>\n",
       "      <td>A_densenet_TRLEFalse_ASTFalse_L20_DR0_E75_AugTrue_TESTAllFalse</td>\n",
       "      <td>2</td>\n",
       "    </tr>\n",
       "    <tr>\n",
       "      <th>7</th>\n",
       "      <td>A_densenet_TRLETrue_ASTTrue_L20_DR0_E75_AugFalse_SaveWeightsOnly</td>\n",
       "      <td>1</td>\n",
       "    </tr>\n",
       "    <tr>\n",
       "      <th>39</th>\n",
       "      <td>A_resnet_TRLETrue_ASTFalse_L20_001_DR0_2_E75_AugTrue</td>\n",
       "      <td>13</td>\n",
       "    </tr>\n",
       "    <tr>\n",
       "      <th>43</th>\n",
       "      <td>A_resnet_TRLETrue_ASTFalse_L20_1_DR0_4_E75_AugFalse</td>\n",
       "      <td>15</td>\n",
       "    </tr>\n",
       "    <tr>\n",
       "      <th>52</th>\n",
       "      <td>A_resnet_TRLETrue_ASTFalse_L21e-07_DR0_8_E75_AugTrue</td>\n",
       "      <td>6</td>\n",
       "    </tr>\n",
       "  </tbody>\n",
       "</table>\n",
       "</div>"
      ],
      "text/plain": [
       "                                                                desc  counts\n",
       "1    A_densenet_TRLEFalse_ASTFalse_L20_DR0_E75_AugFalse_TESTAllFalse       1\n",
       "3     A_densenet_TRLEFalse_ASTFalse_L20_DR0_E75_AugTrue_TESTAllFalse       2\n",
       "7   A_densenet_TRLETrue_ASTTrue_L20_DR0_E75_AugFalse_SaveWeightsOnly       1\n",
       "39              A_resnet_TRLETrue_ASTFalse_L20_001_DR0_2_E75_AugTrue      13\n",
       "43               A_resnet_TRLETrue_ASTFalse_L20_1_DR0_4_E75_AugFalse      15\n",
       "52              A_resnet_TRLETrue_ASTFalse_L21e-07_DR0_8_E75_AugTrue       6"
      ]
     },
     "execution_count": 39,
     "metadata": {},
     "output_type": "execute_result"
    }
   ],
   "source": [
    "descs_df[descs_df[\"counts\"]!=30]"
   ]
  },
  {
   "cell_type": "code",
   "execution_count": null,
   "metadata": {},
   "outputs": [],
   "source": []
  },
  {
   "cell_type": "code",
   "execution_count": null,
   "metadata": {},
   "outputs": [],
   "source": []
  },
  {
   "cell_type": "markdown",
   "metadata": {},
   "source": [
    "32  A_mobilenet_TRLETrue_ASTFalse_L21e-07_DR0_4_E75_AugFalse -- RUNNING CONSOLE\n",
    "39\tA_resnet_TRLETrue_ASTFalse_L20_001_DR0_2_E75_AugTrue\t13\n",
    "43\tA_resnet_TRLETrue_ASTFalse_L20_1_DR0_4_E75_AugFalse\t15\n",
    "52\tA_resnet_TRLETrue_ASTFalse_L21e-07_DR0_8_E75_AugTrue -- RUNNING JOB"
   ]
  },
  {
   "cell_type": "code",
   "execution_count": 3,
   "metadata": {},
   "outputs": [],
   "source": [
    "trackers_list = [\n",
    "    \"nestcv_5cat_twotrain_OT5_m0_T0V1\",\n",
    "    \"nestcv_5cat_twotrain_OT4_m3_T5V0\",\n",
    "    \"nestcv_5cat_twotrain_OT5_m4_T4V0\",\n",
    "    \"nestcv_5cat_twotrain_OT3_m4_T2V4\",\n",
    "    \"nestcv_5cat_twotrain_OT5_m3_T3V4\",\n",
    "    \"nestcv_5cat_twotrain_OT4_m0_T0V1\",\n",
    "    \"nestcv_5cat_twotrain_OT2_m0_T0V1\",\n",
    "    \"nestcv_5cat_twotrain_OT5_m2_T2V3\",\n",
    "    \"nestcv_5cat_twotrain_OT0_m3_T4V5\",\n",
    "    \"nestcv_5cat_twotrain_OT0_m4_T5V1\",\n",
    "    \"nestcv_5cat_twotrain_OT1_m3_T5V0\",\n",
    "    \"nestcv_5cat_twotrain_OT0_m2_T3V4\",\n",
    "    \"nestcv_5cat_twotrain_OT4_m2_T2V3\",\n",
    "    \"nestcv_5cat_twotrain_OT3_m1_T1V2\",\n",
    "    \"nestcv_5cat_twotrain_OT1_m2_T4V5\",\n",
    "    \"nestcv_5cat_twotrain_OT2_m1_T3V4\",\n",
    "    \"nestcv_5cat_twotrain_OT0_m1_T2V3\",\n",
    "    \"nestcv_5cat_twotrain_OT4_m4_T3V5\",\n",
    "    \"nestcv_5cat_twotrain_OT2_m4_T1V3\",\n",
    "    \"nestcv_5cat_twotrain_OT2_m2_T4V5\",\n",
    "    \"nestcv_5cat_twotrain_OT1_m4_T0V2\",\n",
    "    \"nestcv_5cat_twotrain_OT3_m3_T5V0\",\n",
    "    \"nestcv_5cat_twotrain_OT3_m0_T0V1\",\n",
    "    \"nestcv_5cat_twotrain_OT5_m1_T1V2\",\n",
    "    \"nestcv_5cat_twotrain_OT1_m1_T3V4\",\n",
    "    \"nestcv_5cat_twotrain_OT2_m3_T5V0\",\n",
    "    \"nestcv_5cat_twotrain_OT4_m1_T1V2\",\n",
    "    \"nestcv_5cat_twotrain_OT1_m0_T2V3\",\n",
    "    \"nestcv_5cat_twotrain_OT3_m2_T4V5\",\n",
    "    \"nestcv_5cat_twotrain_OT0_m0_T1V2\",\n",
    "]"
   ]
  },
  {
   "cell_type": "code",
   "execution_count": 41,
   "metadata": {},
   "outputs": [
    {
     "name": "stdout",
     "output_type": "stream",
     "text": [
      "['nestcv_5cat_twotrain_OT2_m1_T3V4', 'nestcv_5cat_twotrain_OT0_m1_T2V3', 'nestcv_5cat_twotrain_OT4_m4_T3V5', 'nestcv_5cat_twotrain_OT2_m4_T1V3', 'nestcv_5cat_twotrain_OT2_m2_T4V5', 'nestcv_5cat_twotrain_OT1_m4_T0V2', 'nestcv_5cat_twotrain_OT3_m3_T5V0', 'nestcv_5cat_twotrain_OT3_m0_T0V1', 'nestcv_5cat_twotrain_OT5_m1_T1V2', 'nestcv_5cat_twotrain_OT1_m1_T3V4', 'nestcv_5cat_twotrain_OT2_m3_T5V0', 'nestcv_5cat_twotrain_OT4_m1_T1V2', 'nestcv_5cat_twotrain_OT1_m0_T2V3', 'nestcv_5cat_twotrain_OT3_m2_T4V5', 'nestcv_5cat_twotrain_OT0_m0_T1V2']\n",
      "15\n"
     ]
    }
   ],
   "source": [
    "ran = []\n",
    "\n",
    "for i in f:\n",
    "    if \"A_resnet_TRLETrue_ASTFalse_L20_1_DR0_4_E75_AugFalse\" in i:\n",
    "        ran.append(i)\n",
    "\n",
    "ran_trackers = []\n",
    "for i in ran:\n",
    "    # print(i)\n",
    "    for j in trackers_list:\n",
    "        # print(j)\n",
    "        if j in i:\n",
    "            # print(\"j not in i\")\n",
    "            # print(j)\n",
    "            ran_trackers.append(j)\n",
    "\n",
    "notran = [i for i in trackers_list if i not in ran_trackers]\n",
    "# print(notran)\n",
    "print(len(notran))"
   ]
  },
  {
   "cell_type": "code",
   "execution_count": 6,
   "metadata": {},
   "outputs": [
    {
     "name": "stdout",
     "output_type": "stream",
     "text": [
      "nestcv_5cat_twotrain_OT5_m0_T0V1\n",
      "30\n",
      "0\n",
      "nestcv_5cat_twotrain_OT4_m3_T5V0\n",
      "30\n",
      "0\n",
      "nestcv_5cat_twotrain_OT5_m4_T4V0\n",
      "30\n",
      "0\n",
      "nestcv_5cat_twotrain_OT3_m4_T2V4\n",
      "30\n",
      "0\n",
      "nestcv_5cat_twotrain_OT5_m3_T3V4\n",
      "30\n",
      "0\n",
      "nestcv_5cat_twotrain_OT4_m0_T0V1\n",
      "30\n",
      "0\n",
      "nestcv_5cat_twotrain_OT2_m0_T0V1\n",
      "30\n",
      "0\n",
      "nestcv_5cat_twotrain_OT5_m2_T2V3\n",
      "30\n",
      "0\n",
      "nestcv_5cat_twotrain_OT0_m3_T4V5\n",
      "30\n",
      "0\n",
      "nestcv_5cat_twotrain_OT0_m4_T5V1\n",
      "30\n",
      "0\n",
      "nestcv_5cat_twotrain_OT1_m3_T5V0\n",
      "30\n",
      "0\n",
      "nestcv_5cat_twotrain_OT0_m2_T3V4\n",
      "30\n",
      "0\n",
      "nestcv_5cat_twotrain_OT4_m2_T2V3\n",
      "30\n",
      "0\n",
      "nestcv_5cat_twotrain_OT3_m1_T1V2\n",
      "30\n",
      "0\n",
      "nestcv_5cat_twotrain_OT1_m2_T4V5\n",
      "30\n",
      "0\n",
      "nestcv_5cat_twotrain_OT2_m1_T3V4\n",
      "30\n",
      "0\n",
      "nestcv_5cat_twotrain_OT0_m1_T2V3\n",
      "30\n",
      "0\n",
      "nestcv_5cat_twotrain_OT4_m4_T3V5\n",
      "30\n",
      "0\n",
      "nestcv_5cat_twotrain_OT2_m4_T1V3\n",
      "30\n",
      "0\n",
      "nestcv_5cat_twotrain_OT2_m2_T4V5\n",
      "30\n",
      "0\n",
      "nestcv_5cat_twotrain_OT1_m4_T0V2\n",
      "30\n",
      "0\n",
      "nestcv_5cat_twotrain_OT3_m3_T5V0\n",
      "30\n",
      "0\n",
      "nestcv_5cat_twotrain_OT3_m0_T0V1\n",
      "30\n",
      "0\n",
      "nestcv_5cat_twotrain_OT5_m1_T1V2\n",
      "30\n",
      "0\n",
      "nestcv_5cat_twotrain_OT1_m1_T3V4\n",
      "30\n",
      "0\n",
      "nestcv_5cat_twotrain_OT2_m3_T5V0\n",
      "30\n",
      "0\n",
      "nestcv_5cat_twotrain_OT4_m1_T1V2\n",
      "30\n",
      "0\n",
      "nestcv_5cat_twotrain_OT1_m0_T2V3\n",
      "30\n",
      "0\n",
      "nestcv_5cat_twotrain_OT3_m2_T4V5\n",
      "30\n",
      "0\n",
      "nestcv_5cat_twotrain_OT0_m0_T1V2\n",
      "30\n",
      "0\n"
     ]
    }
   ],
   "source": [
    "def check_if_ran(desc):\n",
    "    print(desc)\n",
    "    ran = []\n",
    "\n",
    "    for i in f:\n",
    "        if \"A_resnet_TRLETrue_ASTFalse_L20_1_DR0_4_E75_AugFalse\" in i:\n",
    "            ran.append(i)\n",
    "\n",
    "    print(len(ran))\n",
    "    ran_trackers = []\n",
    "    for i in ran:\n",
    "        # print(i)\n",
    "        for j in trackers_list:\n",
    "            # print(j)\n",
    "            if j in i:\n",
    "                # print(\"j not in i\")\n",
    "                # print(j)\n",
    "                ran_trackers.append(j)\n",
    "\n",
    "    notran = [i for i in trackers_list if i not in ran_trackers]\n",
    "    # print(notran)\n",
    "    print(len(notran))\n",
    "\n",
    "for k in trackers_list:\n",
    "    check_if_ran(k)\n"
   ]
  },
  {
   "cell_type": "markdown",
   "metadata": {},
   "source": []
  },
  {
   "cell_type": "code",
   "execution_count": 2,
   "metadata": {},
   "outputs": [],
   "source": [
    "from glob import glob\n",
    "dfs = glob(\"/home/csutter/DRIVE-clean/CNN/data_preds/*\")"
   ]
  },
  {
   "cell_type": "code",
   "execution_count": 5,
   "metadata": {},
   "outputs": [],
   "source": [
    "for d in dfs:\n",
    "    df_final = pd.read_csv(d)\n",
    "    df_final[\"model_prob\"] = df_final[[\"prob_dry\", \"prob_poor_viz\", \"prob_snow\", \"prob_snow_severe\", \"prob_wet\"]].max(axis=1)\n",
    "    beg = d.rfind(\"/\")\n",
    "    name = d[beg+1:]\n",
    "    df_final.to_csv(f\"/home/csutter/DRIVE-clean/CNN/data_preds_new/{name}\")\n",
    "\n"
   ]
  },
  {
   "cell_type": "code",
   "execution_count": 6,
   "metadata": {},
   "outputs": [
    {
     "name": "stdout",
     "output_type": "stream",
     "text": [
      "120\n"
     ]
    }
   ],
   "source": [
    "dfsnew = glob(\"/home/csutter/DRIVE-clean/CNN/data_preds_new/*\")\n",
    "print(len(dfsnew))"
   ]
  },
  {
   "cell_type": "code",
   "execution_count": null,
   "metadata": {},
   "outputs": [],
   "source": []
  }
 ],
 "metadata": {
  "kernelspec": {
   "display_name": "Python 3.8.10 64-bit",
   "language": "python",
   "name": "python3"
  },
  "language_info": {
   "codemirror_mode": {
    "name": "ipython",
    "version": 3
   },
   "file_extension": ".py",
   "mimetype": "text/x-python",
   "name": "python",
   "nbconvert_exporter": "python",
   "pygments_lexer": "ipython3",
   "version": "3.8.10"
  },
  "orig_nbformat": 4,
  "vscode": {
   "interpreter": {
    "hash": "916dbcbb3f70747c44a77c7bcd40155683ae19c65e1c03b4aa3499c5328201f1"
   }
  }
 },
 "nbformat": 4,
 "nbformat_minor": 2
}
