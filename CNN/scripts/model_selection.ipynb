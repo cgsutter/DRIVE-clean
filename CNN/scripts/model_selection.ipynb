{
 "cells": [
  {
   "cell_type": "code",
   "execution_count": 17,
   "metadata": {},
   "outputs": [],
   "source": [
    "import pandas as pd\n",
    "\n",
    "pd.set_option(\"display.max_columns\", None)  # Show all columns\n",
    "pd.set_option(\"display.width\", None)        # Use full width of the console\n",
    "pd.set_option(\"display.max_colwidth\", None)  # Show full content in each column"
   ]
  },
  {
   "cell_type": "code",
   "execution_count": null,
   "metadata": {},
   "outputs": [],
   "source": [
    "# for reference see this code: /home/csutter/DRIVE/weather_img_concatmodels/cnn_hrrr_fcsthr2/nested_skill_streamline_vs_blending.ipynb"
   ]
  },
  {
   "cell_type": "code",
   "execution_count": 15,
   "metadata": {},
   "outputs": [
    {
     "data": {
      "text/html": [
       "<div>\n",
       "<style scoped>\n",
       "    .dataframe tbody tr th:only-of-type {\n",
       "        vertical-align: middle;\n",
       "    }\n",
       "\n",
       "    .dataframe tbody tr th {\n",
       "        vertical-align: top;\n",
       "    }\n",
       "\n",
       "    .dataframe thead th {\n",
       "        text-align: right;\n",
       "    }\n",
       "</style>\n",
       "<table border=\"1\" class=\"dataframe\">\n",
       "  <thead>\n",
       "    <tr style=\"text-align: right;\">\n",
       "      <th></th>\n",
       "      <th>totalims</th>\n",
       "      <th>correctims</th>\n",
       "      <th>nims_snow_severe</th>\n",
       "      <th>correct_snow_severe</th>\n",
       "      <th>nims_snow</th>\n",
       "      <th>correct_snow</th>\n",
       "      <th>nims_wet</th>\n",
       "      <th>correct_wet</th>\n",
       "      <th>nims_dry</th>\n",
       "      <th>correct_dry</th>\n",
       "      <th>...</th>\n",
       "      <th>exp_desc</th>\n",
       "      <th>exp_details</th>\n",
       "      <th>rundatetime</th>\n",
       "      <th>overall</th>\n",
       "      <th>perc_dry</th>\n",
       "      <th>perc_poor_viz</th>\n",
       "      <th>perc_snow</th>\n",
       "      <th>perc_snow_severe</th>\n",
       "      <th>perc_wet</th>\n",
       "      <th>avg_recall</th>\n",
       "    </tr>\n",
       "  </thead>\n",
       "  <tbody>\n",
       "    <tr>\n",
       "      <th>20</th>\n",
       "      <td>107445</td>\n",
       "      <td>74272</td>\n",
       "      <td>7635</td>\n",
       "      <td>5651</td>\n",
       "      <td>14945</td>\n",
       "      <td>8968</td>\n",
       "      <td>42290</td>\n",
       "      <td>31316</td>\n",
       "      <td>38000</td>\n",
       "      <td>25133</td>\n",
       "      <td>...</td>\n",
       "      <td>nestcv_5cat_twotrain</td>\n",
       "      <td>_A_resnet_TRLETrue_ASTFalse_L20_DR0_E75_AugTrue</td>\n",
       "      <td>2025-07-01 13:22:20.463990</td>\n",
       "      <td>0.691256</td>\n",
       "      <td>0.661395</td>\n",
       "      <td>0.700328</td>\n",
       "      <td>0.600067</td>\n",
       "      <td>0.740144</td>\n",
       "      <td>0.740506</td>\n",
       "      <td>0.688488</td>\n",
       "    </tr>\n",
       "    <tr>\n",
       "      <th>2</th>\n",
       "      <td>107445</td>\n",
       "      <td>73410</td>\n",
       "      <td>7635</td>\n",
       "      <td>5625</td>\n",
       "      <td>14945</td>\n",
       "      <td>8582</td>\n",
       "      <td>42290</td>\n",
       "      <td>30997</td>\n",
       "      <td>38000</td>\n",
       "      <td>25063</td>\n",
       "      <td>...</td>\n",
       "      <td>nestcv_5cat_twotrain</td>\n",
       "      <td>_A_resnet_TRLETrue_ASTFalse_L20_DR0_E75_AugFalse</td>\n",
       "      <td>2025-06-29 03:06:33.552986</td>\n",
       "      <td>0.683233</td>\n",
       "      <td>0.659553</td>\n",
       "      <td>0.686995</td>\n",
       "      <td>0.574239</td>\n",
       "      <td>0.736739</td>\n",
       "      <td>0.732963</td>\n",
       "      <td>0.678098</td>\n",
       "    </tr>\n",
       "    <tr>\n",
       "      <th>26</th>\n",
       "      <td>107445</td>\n",
       "      <td>73123</td>\n",
       "      <td>7635</td>\n",
       "      <td>5655</td>\n",
       "      <td>14945</td>\n",
       "      <td>8844</td>\n",
       "      <td>42290</td>\n",
       "      <td>30146</td>\n",
       "      <td>38000</td>\n",
       "      <td>25309</td>\n",
       "      <td>...</td>\n",
       "      <td>nestcv_5cat_twotrain</td>\n",
       "      <td>_A_resnet_TRLETrue_ASTTrue_L20_DR0_E75_AugTrue</td>\n",
       "      <td>2025-07-01 14:03:48.795248</td>\n",
       "      <td>0.680562</td>\n",
       "      <td>0.666026</td>\n",
       "      <td>0.692678</td>\n",
       "      <td>0.591770</td>\n",
       "      <td>0.740668</td>\n",
       "      <td>0.712840</td>\n",
       "      <td>0.680796</td>\n",
       "    </tr>\n",
       "    <tr>\n",
       "      <th>4</th>\n",
       "      <td>107445</td>\n",
       "      <td>72893</td>\n",
       "      <td>7635</td>\n",
       "      <td>5761</td>\n",
       "      <td>14945</td>\n",
       "      <td>9210</td>\n",
       "      <td>42290</td>\n",
       "      <td>30253</td>\n",
       "      <td>38000</td>\n",
       "      <td>24391</td>\n",
       "      <td>...</td>\n",
       "      <td>nestcv_5cat_twotrain</td>\n",
       "      <td>_A_mobilenet_TRLETrue_ASTFalse_L20_DR0_E75_Aug...</td>\n",
       "      <td>2025-06-29 03:20:17.279312</td>\n",
       "      <td>0.678422</td>\n",
       "      <td>0.641868</td>\n",
       "      <td>0.716503</td>\n",
       "      <td>0.616260</td>\n",
       "      <td>0.754551</td>\n",
       "      <td>0.715370</td>\n",
       "      <td>0.688910</td>\n",
       "    </tr>\n",
       "  </tbody>\n",
       "</table>\n",
       "<p>4 rows × 23 columns</p>\n",
       "</div>"
      ],
      "text/plain": [
       "    totalims  correctims  nims_snow_severe  correct_snow_severe  nims_snow  \\\n",
       "20    107445       74272              7635                 5651      14945   \n",
       "2     107445       73410              7635                 5625      14945   \n",
       "26    107445       73123              7635                 5655      14945   \n",
       "4     107445       72893              7635                 5761      14945   \n",
       "\n",
       "    correct_snow  nims_wet  correct_wet  nims_dry  correct_dry  ...  \\\n",
       "20          8968     42290        31316     38000        25133  ...   \n",
       "2           8582     42290        30997     38000        25063  ...   \n",
       "26          8844     42290        30146     38000        25309  ...   \n",
       "4           9210     42290        30253     38000        24391  ...   \n",
       "\n",
       "                exp_desc                                        exp_details  \\\n",
       "20  nestcv_5cat_twotrain    _A_resnet_TRLETrue_ASTFalse_L20_DR0_E75_AugTrue   \n",
       "2   nestcv_5cat_twotrain   _A_resnet_TRLETrue_ASTFalse_L20_DR0_E75_AugFalse   \n",
       "26  nestcv_5cat_twotrain     _A_resnet_TRLETrue_ASTTrue_L20_DR0_E75_AugTrue   \n",
       "4   nestcv_5cat_twotrain  _A_mobilenet_TRLETrue_ASTFalse_L20_DR0_E75_Aug...   \n",
       "\n",
       "                   rundatetime   overall  perc_dry perc_poor_viz  perc_snow  \\\n",
       "20  2025-07-01 13:22:20.463990  0.691256  0.661395      0.700328   0.600067   \n",
       "2   2025-06-29 03:06:33.552986  0.683233  0.659553      0.686995   0.574239   \n",
       "26  2025-07-01 14:03:48.795248  0.680562  0.666026      0.692678   0.591770   \n",
       "4   2025-06-29 03:20:17.279312  0.678422  0.641868      0.716503   0.616260   \n",
       "\n",
       "    perc_snow_severe  perc_wet  avg_recall  \n",
       "20          0.740144  0.740506    0.688488  \n",
       "2           0.736739  0.732963    0.678098  \n",
       "26          0.740668  0.712840    0.680796  \n",
       "4           0.754551  0.715370    0.688910  \n",
       "\n",
       "[4 rows x 23 columns]"
      ]
     },
     "metadata": {},
     "output_type": "display_data"
    }
   ],
   "source": [
    "df = pd.read_csv(\"/home/csutter/DRIVE-clean/CNN/data_results/results_by_exp_innerVal.csv\")\n",
    "\n",
    "df[\"overall\"] = df[\"correctims\"]/df[\"totalims\"]\n",
    "\n",
    "\n",
    "for c in [\"dry\", \"poor_viz\", \"snow\", \"snow_severe\", \"wet\"]:\n",
    "    df[f\"perc_{c}\"] = df[f\"correct_{c}\"]/df[f\"nims_{c}\"]\n",
    "\n",
    "\n",
    "# importances = {\"snow_severe\":1,\"snow\":1,\"wet\":1,\"dry\":1,\"poor_viz\":1}\n",
    "\n",
    "df[\"avg_recall\"] = df[[\"perc_dry\", \"perc_poor_viz\", \"perc_snow\", \"perc_snow_severe\", \"perc_wet\"]].mean(axis = 1)\n",
    "\n",
    "\n",
    "top10_avgrecall = df.sort_values(\"avg_recall\", ascending=False)[0:10]\n",
    "selected4 = top10_avgrecall.sort_values(\"overall\", ascending=False)[0:4]\n",
    "\n",
    "display(selected4)"
   ]
  },
  {
   "cell_type": "code",
   "execution_count": 18,
   "metadata": {},
   "outputs": [
    {
     "name": "stdout",
     "output_type": "stream",
     "text": [
      "20        _A_resnet_TRLETrue_ASTFalse_L20_DR0_E75_AugTrue\n",
      "2        _A_resnet_TRLETrue_ASTFalse_L20_DR0_E75_AugFalse\n",
      "26         _A_resnet_TRLETrue_ASTTrue_L20_DR0_E75_AugTrue\n",
      "4     _A_mobilenet_TRLETrue_ASTFalse_L20_DR0_E75_AugFalse\n",
      "Name: exp_details, dtype: object\n"
     ]
    }
   ],
   "source": [
    "print(selected4[\"exp_details\"])"
   ]
  },
  {
   "cell_type": "code",
   "execution_count": 6,
   "metadata": {},
   "outputs": [
    {
     "data": {
      "text/plain": [
       "'_A_mobilenet_TRLETrue_ASTFalse_L20_DR0_E75_AugFalse'"
      ]
     },
     "execution_count": 6,
     "metadata": {},
     "output_type": "execute_result"
    }
   ],
   "source": [
    "d[\"exp_details\"][4]"
   ]
  },
  {
   "cell_type": "code",
   "execution_count": null,
   "metadata": {},
   "outputs": [],
   "source": []
  }
 ],
 "metadata": {
  "kernelspec": {
   "display_name": "Python 3.8.10 64-bit",
   "language": "python",
   "name": "python3"
  },
  "language_info": {
   "codemirror_mode": {
    "name": "ipython",
    "version": 3
   },
   "file_extension": ".py",
   "mimetype": "text/x-python",
   "name": "python",
   "nbconvert_exporter": "python",
   "pygments_lexer": "ipython3",
   "version": "3.8.10"
  },
  "orig_nbformat": 4,
  "vscode": {
   "interpreter": {
    "hash": "31f2aee4e71d21fbe5cf8b01ff0e069b9275f58929596ceb00d14d90e3e16cd6"
   }
  }
 },
 "nbformat": 4,
 "nbformat_minor": 2
}
