{
 "cells": [
  {
   "cell_type": "code",
   "execution_count": 18,
   "metadata": {},
   "outputs": [],
   "source": [
    "import pandas as pd\n",
    "import numpy as np"
   ]
  },
  {
   "cell_type": "code",
   "execution_count": 28,
   "metadata": {},
   "outputs": [
    {
     "name": "stdout",
     "output_type": "stream",
     "text": [
      "164\n",
      "192\n",
      "164\n",
      "192\n",
      "164\n",
      "192\n",
      "164\n",
      "192\n",
      "164\n",
      "192\n",
      "164\n",
      "192\n",
      "721\n",
      "721\n",
      "740\n"
     ]
    }
   ],
   "source": [
    "# For ensembling, we need all data used in the ODM model to be evaluated on all ODM models. Recall there are 3 (samples) x 2 folds (train and val) = 6 distinct datasets. Thus, simply running predictions on all 6 datasets and their 6 corresponding models does not give the results needed for ensembling predictions. Instead, make 2 main trackers, one for each fold, for which all 6 models are evaluated on each one (although only need to evaluate on 3 models to get the ensemble, but might as well run them through all to get val and training performance). See figure in Manuscript for clarity about the data management and evaluation/ensembling.\n",
    "# Looking ahead: After creating these two final dfs below (which have all the observations we need), then have to go back to CNN code to run predictions on all of them across the 6 models. Then can go back and run the ensembling code. \n",
    "\n",
    "dfs = []\n",
    "\n",
    "trackers = [\"/home/csutter/DRIVE-clean/trackers_ODM/ynobs_A_split0.csv\",\n",
    "\"/home/csutter/DRIVE-clean/trackers_ODM/ynobs_A_split1.csv\",\n",
    "\"/home/csutter/DRIVE-clean/trackers_ODM/ynobs_B_split0.csv\",\n",
    "\"/home/csutter/DRIVE-clean/trackers_ODM/ynobs_B_split1.csv\",\n",
    "\"/home/csutter/DRIVE-clean/trackers_ODM/ynobs_C_split0.csv\",\n",
    "\"/home/csutter/DRIVE-clean/trackers_ODM/ynobs_C_split1.csv\"]\n",
    "\n",
    "for t in trackers:\n",
    "    d = pd.read_csv(t)\n",
    "    unnamed_cols = [col for col in d.columns if 'Unnamed' in col]\n",
    "    d.drop(columns=unnamed_cols, inplace=True)\n",
    "    d.drop(columns= [\"innerPhase\"], inplace=True)\n",
    "    print(len(d[d[\"img_cat\"]==\"obs\"]))\n",
    "    print(len(d[d[\"img_cat\"]==\"nonobs\"]))\n",
    "    dfs.append(d)\n",
    "\n",
    "d.head(5)\n",
    "df = pd.concat(dfs)\n",
    "len(df)\n",
    "\n",
    "print(len(np.unique(df[\"img_name\"])))\n",
    "dfclean = df.drop_duplicates().reset_index()\n",
    "print(len(dfclean))\n",
    "\n",
    "# spot check that the amounts make sense\n",
    "# We have 3 unique non-obs samples, which are then split into folds 0 and 1\n",
    "# So roughly, should be about # obs (162) + 3 x # of non-obs (192)\n",
    "# Rough approximation to spot check!\n",
    "print(164+192*3)\n",
    "\n",
    "# Save this df out\n",
    "dfclean.to_csv(\"/home/csutter/DRIVE-clean/trackers_ODM/ynobs_entire.csv\")"
   ]
  },
  {
   "cell_type": "code",
   "execution_count": null,
   "metadata": {},
   "outputs": [],
   "source": [
    "# # Maybe will need these two csvs split out, maybe not... \n",
    "# # we have our tracker of all observations used across the 6 datasets for ODM. Save these out, but as duplicates, where the innerPhase col for each one is innerTrain or innerVal appropriately, for ensembling. \n",
    "\n",
    "# df_split0 = dfclean.copy()\n",
    "# phaseset = [\"innerVal\" if i == 0 else \"innerTrain\" for i in df_split0[\"foldhalf\"]]\n",
    "# df_split0[\"innerPhase\"] = phaseset\n",
    "# df_split0.to_csv(\"/home/csutter/DRIVE-clean/trackers_ODM/ynobs_split0_val.csv\")\n",
    "# print(len(df_split0))\n",
    "\n",
    "\n",
    "# df_split1 = dfclean.copy()\n",
    "# phaseset = [\"innerVal\" if i == 1 else \"innerTrain\" for i in df_split1[\"foldhalf\"]]\n",
    "# df_split1[\"innerPhase\"] = phaseset\n",
    "# df_split1.to_csv(\"/home/csutter/DRIVE-clean/trackers_ODM/ynobs_split1_val.csv\")\n",
    "# print(len(df_split1))\n"
   ]
  },
  {
   "cell_type": "code",
   "execution_count": null,
   "metadata": {},
   "outputs": [],
   "source": []
  }
 ],
 "metadata": {
  "kernelspec": {
   "display_name": "Python 3.8.10 64-bit",
   "language": "python",
   "name": "python3"
  },
  "language_info": {
   "codemirror_mode": {
    "name": "ipython",
    "version": 3
   },
   "file_extension": ".py",
   "mimetype": "text/x-python",
   "name": "python",
   "nbconvert_exporter": "python",
   "pygments_lexer": "ipython3",
   "version": "3.8.10"
  },
  "orig_nbformat": 4,
  "vscode": {
   "interpreter": {
    "hash": "916dbcbb3f70747c44a77c7bcd40155683ae19c65e1c03b4aa3499c5328201f1"
   }
  }
 },
 "nbformat": 4,
 "nbformat_minor": 2
}
