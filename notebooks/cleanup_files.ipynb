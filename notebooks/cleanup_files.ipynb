{
 "cells": [
  {
   "cell_type": "code",
   "execution_count": null,
   "metadata": {},
   "outputs": [],
   "source": [
    "import os"
   ]
  },
  {
   "cell_type": "code",
   "execution_count": 7,
   "metadata": {},
   "outputs": [
    {
     "name": "stdout",
     "output_type": "stream",
     "text": [
      "File 'nestcv_5cat_twotrain_OT2_m4_T1V3__A_mobilenet_TRLETrue_ASTFalse_L21e-05_DR0_4_E75_AugFalse_trainedOnVal.pkl' deleted successfully.\n",
      "File 'nestcv_5cat_twotrain_OT2_m0_T0V1__A_mobilenet_TRLETrue_ASTFalse_L21e-05_DR0_4_E75_AugFalse_trainedOnVal.pkl' deleted successfully.\n",
      "File 'nestcv_5cat_twotrain_OT0_m3_T4V5__A_mobilenet_TRLETrue_ASTFalse_L21e-05_DR0_4_E75_AugFalse_trainedOnVal.pkl' deleted successfully.\n",
      "File 'nestcv_5cat_twotrain_OT4_m2_T2V3__A_mobilenet_TRLETrue_ASTFalse_L21e-05_DR0_4_E75_AugFalse_trainedOnVal.pkl' deleted successfully.\n",
      "File 'nestcv_5cat_twotrain_OT1_m3_T5V0__A_mobilenet_TRLETrue_ASTFalse_L21e-05_DR0_4_E75_AugFalse_trainedOnVal.pkl' deleted successfully.\n",
      "File 'nestcv_5cat_twotrain_OT4_m3_T5V0__A_mobilenet_TRLETrue_ASTFalse_L21e-05_DR0_4_E75_AugFalse_trainedOnVal.pkl' deleted successfully.\n",
      "File 'nestcv_5cat_twotrain_OT1_m4_T0V2__A_mobilenet_TRLETrue_ASTFalse_L21e-05_DR0_4_E75_AugFalse_trainedOnVal.pkl' deleted successfully.\n",
      "File 'nestcv_5cat_twotrain_OT2_m3_T5V0__A_mobilenet_TRLETrue_ASTFalse_L21e-05_DR0_4_E75_AugFalse_trainedOnVal.pkl' deleted successfully.\n",
      "File 'nestcv_5cat_twotrain_OT4_m1_T1V2__A_mobilenet_TRLETrue_ASTFalse_L21e-05_DR0_4_E75_AugFalse_trainedOnVal.pkl' deleted successfully.\n",
      "File 'nestcv_5cat_twotrain_OT3_m0_T0V1__A_mobilenet_TRLETrue_ASTFalse_L21e-05_DR0_4_E75_AugFalse_trainedOnVal.pkl' deleted successfully.\n",
      "File 'nestcv_5cat_twotrain_OT3_m4_T2V4__A_mobilenet_TRLETrue_ASTFalse_L21e-05_DR0_4_E75_AugFalse_trainedOnVal.pkl' deleted successfully.\n",
      "File 'nestcv_5cat_twotrain_OT4_m4_T3V5__A_mobilenet_TRLETrue_ASTFalse_L21e-05_DR0_4_E75_AugFalse_trainedOnVal.pkl' deleted successfully.\n",
      "File 'nestcv_5cat_twotrain_OT1_m1_T3V4__A_mobilenet_TRLETrue_ASTFalse_L21e-05_DR0_4_E75_AugFalse_trainedOnVal.pkl' deleted successfully.\n",
      "File 'nestcv_5cat_twotrain_OT0_m4_T5V1__A_mobilenet_TRLETrue_ASTFalse_L21e-05_DR0_4_E75_AugFalse_trainedOnVal.pkl' deleted successfully.\n",
      "File 'nestcv_5cat_twotrain_OT2_m1_T3V4__A_mobilenet_TRLETrue_ASTFalse_L21e-05_DR0_4_E75_AugFalse_trainedOnVal.pkl' deleted successfully.\n",
      "File 'nestcv_5cat_twotrain_OT0_m1_T2V3__A_mobilenet_TRLETrue_ASTFalse_L21e-05_DR0_4_E75_AugFalse_trainedOnVal.pkl' deleted successfully.\n",
      "File 'nestcv_5cat_twotrain_OT1_m2_T4V5__A_mobilenet_TRLETrue_ASTFalse_L21e-05_DR0_4_E75_AugFalse_trainedOnVal.pkl' deleted successfully.\n",
      "File 'nestcv_5cat_twotrain_OT3_m2_T4V5__A_mobilenet_TRLETrue_ASTFalse_L21e-05_DR0_4_E75_AugFalse_trainedOnVal.pkl' deleted successfully.\n",
      "File 'nestcv_5cat_twotrain_OT3_m3_T5V0__A_mobilenet_TRLETrue_ASTFalse_L21e-05_DR0_4_E75_AugFalse_trainedOnVal.pkl' deleted successfully.\n",
      "File 'nestcv_5cat_twotrain_OT5_m0_T0V1__A_mobilenet_TRLETrue_ASTFalse_L21e-05_DR0_4_E75_AugFalse_trainedOnVal.pkl' deleted successfully.\n",
      "File 'nestcv_5cat_twotrain_OT3_m1_T1V2__A_mobilenet_TRLETrue_ASTFalse_L21e-05_DR0_4_E75_AugFalse_trainedOnVal.pkl' deleted successfully.\n",
      "File 'nestcv_5cat_twotrain_OT5_m4_T4V0__A_mobilenet_TRLETrue_ASTFalse_L21e-05_DR0_4_E75_AugFalse_trainedOnVal.pkl' deleted successfully.\n",
      "File 'nestcv_5cat_twotrain_OT0_m0_T1V2__A_mobilenet_TRLETrue_ASTFalse_L21e-05_DR0_4_E75_AugFalse_trainedOnVal.pkl' deleted successfully.\n",
      "File 'nestcv_5cat_twotrain_OT5_m3_T3V4__A_mobilenet_TRLETrue_ASTFalse_L21e-05_DR0_4_E75_AugFalse_trainedOnVal.pkl' deleted successfully.\n",
      "File 'nestcv_5cat_twotrain_OT0_m2_T3V4__A_mobilenet_TRLETrue_ASTFalse_L21e-05_DR0_4_E75_AugFalse_trainedOnVal.pkl' deleted successfully.\n",
      "File 'nestcv_5cat_twotrain_OT5_m1_T1V2__A_mobilenet_TRLETrue_ASTFalse_L21e-05_DR0_4_E75_AugFalse_trainedOnVal.pkl' deleted successfully.\n",
      "File 'nestcv_5cat_twotrain_OT2_m2_T4V5__A_mobilenet_TRLETrue_ASTFalse_L21e-05_DR0_4_E75_AugFalse_trainedOnVal.pkl' deleted successfully.\n",
      "File 'nestcv_5cat_twotrain_OT4_m0_T0V1__A_mobilenet_TRLETrue_ASTFalse_L21e-05_DR0_4_E75_AugFalse_trainedOnVal.pkl' deleted successfully.\n",
      "File 'nestcv_5cat_twotrain_OT1_m0_T2V3__A_mobilenet_TRLETrue_ASTFalse_L21e-05_DR0_4_E75_AugFalse_trainedOnVal.pkl' deleted successfully.\n",
      "File 'nestcv_5cat_twotrain_OT5_m2_T2V3__A_mobilenet_TRLETrue_ASTFalse_L21e-05_DR0_4_E75_AugFalse_trainedOnVal.pkl' deleted successfully.\n"
     ]
    }
   ],
   "source": [
    "# dir = \"/home/csutter/DRIVE-clean/downstream/data_preds\"\n",
    "# dir = \"/home/csutter/DRIVE-clean/downstream/data_models_downstream\"\n",
    "# dir = \"/home/csutter/DRIVE-clean/downstream/data_models_scalar\"\n",
    "# dir = \"/home/csutter/DRIVE-clean/calibration/calib_downstream_data\"\n",
    "# dir = \"/home/csutter/DRIVE-clean/calibration/calib_downstream_model\"\n",
    "\n",
    "dir = \"/home/csutter/DRIVE-clean/calibration/calib_CNN_data\"\n",
    "dir = \"/home/csutter/DRIVE-clean/calibration/calib_CNN_model\"\n",
    "\n",
    "files = os.listdir(dir)\n",
    "\n",
    "for f in files:\n",
    "    if \"mobilenet\" in f:\n",
    "        os.remove(f\"{dir}/{f}\")\n",
    "        print(f\"File '{f}' deleted successfully.\")"
   ]
  },
  {
   "cell_type": "code",
   "execution_count": null,
   "metadata": {},
   "outputs": [],
   "source": []
  }
 ],
 "metadata": {
  "kernelspec": {
   "display_name": "Python 3.8.10 64-bit",
   "language": "python",
   "name": "python3"
  },
  "language_info": {
   "codemirror_mode": {
    "name": "ipython",
    "version": 3
   },
   "file_extension": ".py",
   "mimetype": "text/x-python",
   "name": "python",
   "nbconvert_exporter": "python",
   "pygments_lexer": "ipython3",
   "version": "3.8.10"
  },
  "orig_nbformat": 4,
  "vscode": {
   "interpreter": {
    "hash": "31f2aee4e71d21fbe5cf8b01ff0e069b9275f58929596ceb00d14d90e3e16cd6"
   }
  }
 },
 "nbformat": 4,
 "nbformat_minor": 2
}
