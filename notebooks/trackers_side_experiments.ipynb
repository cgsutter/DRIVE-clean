{
 "cells": [
  {
   "cell_type": "code",
   "execution_count": 1,
   "metadata": {},
   "outputs": [],
   "source": [
    "import pandas as pd\n",
    "import os\n",
    "import numpy as np"
   ]
  },
  {
   "cell_type": "markdown",
   "metadata": {},
   "source": [
    "For reference on tracker setups: /home/csutter/DRIVE/weather_img_concatmodels/cnn_hrrr_fcsthr2/nested_trackerprep_data_experiments.ipynb"
   ]
  },
  {
   "cell_type": "code",
   "execution_count": 22,
   "metadata": {},
   "outputs": [],
   "source": [
    "trackers_list = [\n",
    "    \"/home/csutter/DRIVE/dot/model_trackpaths/nestcv_5cat_twotrain_OT5_m0_T0V1.csv\",\n",
    "    \"/home/csutter/DRIVE/dot/model_trackpaths/nestcv_5cat_twotrain_OT4_m3_T5V0.csv\",\n",
    "    \"/home/csutter/DRIVE/dot/model_trackpaths/nestcv_5cat_twotrain_OT5_m4_T4V0.csv\",\n",
    "    \"/home/csutter/DRIVE/dot/model_trackpaths/nestcv_5cat_twotrain_OT3_m4_T2V4.csv\",\n",
    "    \"/home/csutter/DRIVE/dot/model_trackpaths/nestcv_5cat_twotrain_OT5_m3_T3V4.csv\",\n",
    "    \"/home/csutter/DRIVE/dot/model_trackpaths/nestcv_5cat_twotrain_OT4_m0_T0V1.csv\",\n",
    "    \"/home/csutter/DRIVE/dot/model_trackpaths/nestcv_5cat_twotrain_OT2_m0_T0V1.csv\",\n",
    "    \"/home/csutter/DRIVE/dot/model_trackpaths/nestcv_5cat_twotrain_OT5_m2_T2V3.csv\",\n",
    "    \"/home/csutter/DRIVE/dot/model_trackpaths/nestcv_5cat_twotrain_OT0_m3_T4V5.csv\",\n",
    "    \"/home/csutter/DRIVE/dot/model_trackpaths/nestcv_5cat_twotrain_OT0_m4_T5V1.csv\",\n",
    "    \"/home/csutter/DRIVE/dot/model_trackpaths/nestcv_5cat_twotrain_OT1_m3_T5V0.csv\",\n",
    "    \"/home/csutter/DRIVE/dot/model_trackpaths/nestcv_5cat_twotrain_OT0_m2_T3V4.csv\",\n",
    "    \"/home/csutter/DRIVE/dot/model_trackpaths/nestcv_5cat_twotrain_OT4_m2_T2V3.csv\",\n",
    "    \"/home/csutter/DRIVE/dot/model_trackpaths/nestcv_5cat_twotrain_OT3_m1_T1V2.csv\",\n",
    "    \"/home/csutter/DRIVE/dot/model_trackpaths/nestcv_5cat_twotrain_OT1_m2_T4V5.csv\",\n",
    "    \"/home/csutter/DRIVE/dot/model_trackpaths/nestcv_5cat_twotrain_OT2_m1_T3V4.csv\",\n",
    "    \"/home/csutter/DRIVE/dot/model_trackpaths/nestcv_5cat_twotrain_OT0_m1_T2V3.csv\",\n",
    "    \"/home/csutter/DRIVE/dot/model_trackpaths/nestcv_5cat_twotrain_OT4_m4_T3V5.csv\",\n",
    "    \"/home/csutter/DRIVE/dot/model_trackpaths/nestcv_5cat_twotrain_OT2_m4_T1V3.csv\",\n",
    "    \"/home/csutter/DRIVE/dot/model_trackpaths/nestcv_5cat_twotrain_OT2_m2_T4V5.csv\",\n",
    "    \"/home/csutter/DRIVE/dot/model_trackpaths/nestcv_5cat_twotrain_OT1_m4_T0V2.csv\",\n",
    "    \"/home/csutter/DRIVE/dot/model_trackpaths/nestcv_5cat_twotrain_OT3_m3_T5V0.csv\",\n",
    "    \"/home/csutter/DRIVE/dot/model_trackpaths/nestcv_5cat_twotrain_OT3_m0_T0V1.csv\",\n",
    "    \"/home/csutter/DRIVE/dot/model_trackpaths/nestcv_5cat_twotrain_OT5_m1_T1V2.csv\",\n",
    "    \"/home/csutter/DRIVE/dot/model_trackpaths/nestcv_5cat_twotrain_OT1_m1_T3V4.csv\",\n",
    "    \"/home/csutter/DRIVE/dot/model_trackpaths/nestcv_5cat_twotrain_OT2_m3_T5V0.csv\",\n",
    "    \"/home/csutter/DRIVE/dot/model_trackpaths/nestcv_5cat_twotrain_OT4_m1_T1V2.csv\",\n",
    "    \"/home/csutter/DRIVE/dot/model_trackpaths/nestcv_5cat_twotrain_OT1_m0_T2V3.csv\",\n",
    "    \"/home/csutter/DRIVE/dot/model_trackpaths/nestcv_5cat_twotrain_OT3_m2_T4V5.csv\",\n",
    "    \"/home/csutter/DRIVE/dot/model_trackpaths/nestcv_5cat_twotrain_OT0_m0_T1V2.csv\",\n",
    "]"
   ]
  },
  {
   "cell_type": "markdown",
   "metadata": {},
   "source": [
    "Shuffle"
   ]
  },
  {
   "cell_type": "code",
   "execution_count": 2,
   "metadata": {},
   "outputs": [],
   "source": []
  },
  {
   "cell_type": "code",
   "execution_count": 33,
   "metadata": {},
   "outputs": [
    {
     "name": "stdout",
     "output_type": "stream",
     "text": [
      "Index(['Unnamed: 0.2', 'Unnamed: 0.1', 'innerPhase', 'Unnamed: 0',\n",
      "       'outerPhase', 'img_name', 'img_orig', 'site', 'img_index', 'img_cat',\n",
      "       'foldnum', 'ID', 'Latitude', 'Longitude', 'date', 'yr', 'mo', 'day',\n",
      "       'time', 'yr_mo', 'timeofday', 'timeofevent', 'innerPhaseOrig'],\n",
      "      dtype='object')\n"
     ]
    }
   ],
   "source": [
    "# Grab one tracker with foldnums in it (doesn't matter with OT and model it is, bc same foldnums are assigned to every 30 tracker)\n",
    "sitespec = pd.read_csv(\"/home/csutter/DRIVE/dot/model_trackpaths/nestcv_5cat_twotrain_OT5_m0_T0V1.csv\")\n",
    "print(sitespec.columns)\n",
    "\n",
    "# Randomly assign values 0 through 5\n",
    "sitespec['shufflefold'] = np.random.randint(0, 6, size=len(sitespec))\n",
    "\n",
    "for t in trackers_list:\n",
    "    d = pd.read_csv(t)\n",
    "    filename = os.path.basename(t)\n",
    "\n",
    "    ### grab the assignments to map the foldnum to phases\n",
    "    # assigments of phase WILL matter and have to be done by each of the 30, but want to make sure there is only ONE SINGLE fold assignment, so that must be done first before assigning phases by 30.\n",
    "    # must grab these assignments before applying the changed foldnum!\n",
    "    assignments = d[[\"foldnum\", \"innerPhase\", \"outerPhase\"]].drop_duplicates().reset_index(drop=True)\n",
    "\n",
    "    ### drop foldnum, innerPhase, and outerPhase columns, bc those will be redefined\n",
    "    d = d.drop(columns=[\"foldnum\", \"innerPhase\", \"outerPhase\"])\n",
    "\n",
    "    ### apply the new shufflefold number from the assignments df and set it as foldnum\n",
    "    d1 = d.merge(sitespec[['img_name','shufflefold']], how = \"inner\", on = \"img_name\")\n",
    "    d2 = d1.rename(columns = {'shufflefold':'foldnum'})\n",
    "\n",
    "    ### apply the assignments mapping foldnum to phases by merging\n",
    "    d3 = d2.merge(assignments, how = \"inner\", on = \"foldnum\")\n",
    "\n",
    "    # to print to see confurmation that foldnum is the same for a single example but phases differ based on which of the 30 trackers we're on\n",
    "    # print(d3[d3[\"img_name\"] =='I_81_at_Exit_50__Northbound__Skyline_6163_2022-02-06-19:00:17.jpg'][[\"foldnum\",\"innerPhase\"]])\n",
    "\n",
    "    ### Save experiment trackers\n",
    "    d3.to_csv(f\"/home/csutter/DRIVE-clean/trackers_side_experiments/shuffle/{filename}\")\n",
    "\n",
    "\n",
    "# randomly assign foldnum to every row"
   ]
  },
  {
   "cell_type": "code",
   "execution_count": 34,
   "metadata": {},
   "outputs": [
    {
     "name": "stdout",
     "output_type": "stream",
     "text": [
      "21489\n"
     ]
    }
   ],
   "source": [
    "print(len(d3))"
   ]
  },
  {
   "cell_type": "markdown",
   "metadata": {},
   "source": [
    "Halved"
   ]
  },
  {
   "cell_type": "code",
   "execution_count": 20,
   "metadata": {},
   "outputs": [
    {
     "name": "stdout",
     "output_type": "stream",
     "text": [
      "nestcv_5cat_twotrain_OT5_m0_T0V1.csv\n",
      "nestcv_5cat_twotrain_OT4_m3_T5V0.csv\n",
      "nestcv_5cat_twotrain_OT5_m4_T4V0.csv\n",
      "nestcv_5cat_twotrain_OT3_m4_T2V4.csv\n",
      "nestcv_5cat_twotrain_OT5_m3_T3V4.csv\n",
      "nestcv_5cat_twotrain_OT4_m0_T0V1.csv\n",
      "nestcv_5cat_twotrain_OT2_m0_T0V1.csv\n",
      "nestcv_5cat_twotrain_OT5_m2_T2V3.csv\n",
      "nestcv_5cat_twotrain_OT0_m3_T4V5.csv\n",
      "nestcv_5cat_twotrain_OT0_m4_T5V1.csv\n",
      "nestcv_5cat_twotrain_OT1_m3_T5V0.csv\n",
      "nestcv_5cat_twotrain_OT0_m2_T3V4.csv\n",
      "nestcv_5cat_twotrain_OT4_m2_T2V3.csv\n",
      "nestcv_5cat_twotrain_OT3_m1_T1V2.csv\n",
      "nestcv_5cat_twotrain_OT1_m2_T4V5.csv\n",
      "nestcv_5cat_twotrain_OT2_m1_T3V4.csv\n",
      "nestcv_5cat_twotrain_OT0_m1_T2V3.csv\n",
      "nestcv_5cat_twotrain_OT4_m4_T3V5.csv\n",
      "nestcv_5cat_twotrain_OT2_m4_T1V3.csv\n",
      "nestcv_5cat_twotrain_OT2_m2_T4V5.csv\n",
      "nestcv_5cat_twotrain_OT1_m4_T0V2.csv\n",
      "nestcv_5cat_twotrain_OT3_m3_T5V0.csv\n",
      "nestcv_5cat_twotrain_OT3_m0_T0V1.csv\n",
      "nestcv_5cat_twotrain_OT5_m1_T1V2.csv\n",
      "nestcv_5cat_twotrain_OT1_m1_T3V4.csv\n",
      "nestcv_5cat_twotrain_OT2_m3_T5V0.csv\n",
      "nestcv_5cat_twotrain_OT4_m1_T1V2.csv\n",
      "nestcv_5cat_twotrain_OT1_m0_T2V3.csv\n",
      "nestcv_5cat_twotrain_OT3_m2_T4V5.csv\n",
      "nestcv_5cat_twotrain_OT0_m0_T1V2.csv\n"
     ]
    }
   ],
   "source": [
    "# grab one have csv for reference on how to tie\n",
    "example = pd.read_csv(\"/home/csutter/DRIVE/dot/model_trackpaths/nestcv_5cat_halved_OT0_m0_T1V2.csv\")\n",
    "\n",
    "example.head(3)\n",
    "\n",
    "# read in the normal trackers and just inner join to keep only those that are included in the halved\n",
    "for t in trackers_list:\n",
    "    d = pd.read_csv(t)\n",
    "    filename = os.path.basename(t)\n",
    "    print(filename)\n",
    "    dhalf = d.merge(example[[\"img_name\"]], how = \"inner\", on = \"img_name\")\n",
    "    dhalf.to_csv(f\"/home/csutter/DRIVE-clean/trackers_side_experiments/halved/{filename}\")"
   ]
  },
  {
   "cell_type": "markdown",
   "metadata": {},
   "source": [
    "Halved & shuffled"
   ]
  },
  {
   "cell_type": "code",
   "execution_count": 2,
   "metadata": {},
   "outputs": [],
   "source": [
    "from glob import glob"
   ]
  },
  {
   "cell_type": "code",
   "execution_count": 37,
   "metadata": {},
   "outputs": [
    {
     "name": "stdout",
     "output_type": "stream",
     "text": [
      "nestcv_5cat_twotrain_OT5_m0_T0V1.csv\n",
      "nestcv_5cat_twotrain_OT4_m3_T5V0.csv\n",
      "nestcv_5cat_twotrain_OT5_m4_T4V0.csv\n",
      "nestcv_5cat_twotrain_OT3_m4_T2V4.csv\n",
      "nestcv_5cat_twotrain_OT5_m3_T3V4.csv\n",
      "nestcv_5cat_twotrain_OT4_m0_T0V1.csv\n",
      "nestcv_5cat_twotrain_OT2_m0_T0V1.csv\n",
      "nestcv_5cat_twotrain_OT5_m2_T2V3.csv\n",
      "nestcv_5cat_twotrain_OT0_m3_T4V5.csv\n",
      "nestcv_5cat_twotrain_OT0_m4_T5V1.csv\n",
      "nestcv_5cat_twotrain_OT1_m3_T5V0.csv\n",
      "nestcv_5cat_twotrain_OT0_m2_T3V4.csv\n",
      "nestcv_5cat_twotrain_OT4_m2_T2V3.csv\n",
      "nestcv_5cat_twotrain_OT3_m1_T1V2.csv\n",
      "nestcv_5cat_twotrain_OT1_m2_T4V5.csv\n",
      "nestcv_5cat_twotrain_OT2_m1_T3V4.csv\n",
      "nestcv_5cat_twotrain_OT0_m1_T2V3.csv\n",
      "nestcv_5cat_twotrain_OT4_m4_T3V5.csv\n",
      "nestcv_5cat_twotrain_OT2_m4_T1V3.csv\n",
      "nestcv_5cat_twotrain_OT2_m2_T4V5.csv\n",
      "nestcv_5cat_twotrain_OT1_m4_T0V2.csv\n",
      "nestcv_5cat_twotrain_OT3_m3_T5V0.csv\n",
      "nestcv_5cat_twotrain_OT3_m0_T0V1.csv\n",
      "nestcv_5cat_twotrain_OT5_m1_T1V2.csv\n",
      "nestcv_5cat_twotrain_OT1_m1_T3V4.csv\n",
      "nestcv_5cat_twotrain_OT2_m3_T5V0.csv\n",
      "nestcv_5cat_twotrain_OT4_m1_T1V2.csv\n",
      "nestcv_5cat_twotrain_OT1_m0_T2V3.csv\n",
      "nestcv_5cat_twotrain_OT3_m2_T4V5.csv\n",
      "nestcv_5cat_twotrain_OT0_m0_T1V2.csv\n"
     ]
    }
   ],
   "source": [
    "# grab one have csv for reference on how to tie\n",
    "example = pd.read_csv(\"/home/csutter/DRIVE/dot/model_trackpaths/nestcv_5cat_halved_OT0_m0_T1V2.csv\")\n",
    "\n",
    "example.head(3)\n",
    "\n",
    "# here we have to specifically set the shuffle trackers list (which was atcually made above)\n",
    "trackers_shuffle = glob(\"/home/csutter/DRIVE-clean/trackers_side_experiments/shuffle/*\")\n",
    "# read in the normal trackers and just inner join to keep only those that are included in the halved\n",
    "for t in trackers_shuffle:\n",
    "    d = pd.read_csv(t)\n",
    "    filename = os.path.basename(t)\n",
    "    print(filename)\n",
    "    dhalf = d.merge(example[[\"img_name\"]], how = \"inner\", on = \"img_name\")\n",
    "    dhalf.to_csv(f\"/home/csutter/DRIVE-clean/trackers_side_experiments/shuffle_halved/{filename}\")"
   ]
  },
  {
   "cell_type": "code",
   "execution_count": null,
   "metadata": {},
   "outputs": [],
   "source": []
  },
  {
   "cell_type": "markdown",
   "metadata": {},
   "source": [
    "Onetrain\n",
    "- Rather than two training datasets, which makes the training smaller for each, have one massive training dataset, but we lose the \"downstream\" aspect. \n"
   ]
  },
  {
   "cell_type": "code",
   "execution_count": 38,
   "metadata": {},
   "outputs": [
    {
     "name": "stdout",
     "output_type": "stream",
     "text": [
      "Index(['Unnamed: 0.2', 'Unnamed: 0.1', 'innerPhase', 'Unnamed: 0',\n",
      "       'outerPhase', 'img_name', 'img_orig', 'site', 'img_index', 'img_cat',\n",
      "       'foldnum', 'ID', 'Latitude', 'Longitude', 'date', 'yr', 'mo', 'day',\n",
      "       'time', 'yr_mo', 'timeofday', 'timeofevent', 'innerPhaseOrig'],\n",
      "      dtype='object')\n"
     ]
    }
   ],
   "source": [
    "# these datasets were already set up.\n",
    "# Note that these are entirely new phase assignments for a given foldnum (since now, with 6 folds, 4 are for training, 1 for val, and 1 for testing). Entirely different assignments\n",
    "# Just copy over the csvs already set up in this way. \n",
    "\n",
    "# e.g. /home/csutter/DRIVE/dot/model_trackpaths/nestcv_5cat_onetrain_OT0_m0_T1V2.csv"
   ]
  },
  {
   "cell_type": "code",
   "execution_count": 5,
   "metadata": {},
   "outputs": [
    {
     "data": {
      "text/plain": [
       "['/home/csutter/DRIVE-clean/trackers_side_experiments/shuffle_halved/nestcv_5cat_twotrain_OT5_m0_T0V1.csv',\n",
       " '/home/csutter/DRIVE-clean/trackers_side_experiments/shuffle_halved/nestcv_5cat_twotrain_OT4_m3_T5V0.csv',\n",
       " '/home/csutter/DRIVE-clean/trackers_side_experiments/shuffle_halved/nestcv_5cat_twotrain_OT5_m4_T4V0.csv',\n",
       " '/home/csutter/DRIVE-clean/trackers_side_experiments/shuffle_halved/nestcv_5cat_twotrain_OT3_m4_T2V4.csv',\n",
       " '/home/csutter/DRIVE-clean/trackers_side_experiments/shuffle_halved/nestcv_5cat_twotrain_OT5_m3_T3V4.csv',\n",
       " '/home/csutter/DRIVE-clean/trackers_side_experiments/shuffle_halved/nestcv_5cat_twotrain_OT4_m0_T0V1.csv',\n",
       " '/home/csutter/DRIVE-clean/trackers_side_experiments/shuffle_halved/nestcv_5cat_twotrain_OT2_m0_T0V1.csv',\n",
       " '/home/csutter/DRIVE-clean/trackers_side_experiments/shuffle_halved/nestcv_5cat_twotrain_OT5_m2_T2V3.csv',\n",
       " '/home/csutter/DRIVE-clean/trackers_side_experiments/shuffle_halved/nestcv_5cat_twotrain_OT0_m3_T4V5.csv',\n",
       " '/home/csutter/DRIVE-clean/trackers_side_experiments/shuffle_halved/nestcv_5cat_twotrain_OT0_m4_T5V1.csv',\n",
       " '/home/csutter/DRIVE-clean/trackers_side_experiments/shuffle_halved/nestcv_5cat_twotrain_OT1_m3_T5V0.csv',\n",
       " '/home/csutter/DRIVE-clean/trackers_side_experiments/shuffle_halved/nestcv_5cat_twotrain_OT0_m2_T3V4.csv',\n",
       " '/home/csutter/DRIVE-clean/trackers_side_experiments/shuffle_halved/nestcv_5cat_twotrain_OT4_m2_T2V3.csv',\n",
       " '/home/csutter/DRIVE-clean/trackers_side_experiments/shuffle_halved/nestcv_5cat_twotrain_OT3_m1_T1V2.csv',\n",
       " '/home/csutter/DRIVE-clean/trackers_side_experiments/shuffle_halved/nestcv_5cat_twotrain_OT1_m2_T4V5.csv',\n",
       " '/home/csutter/DRIVE-clean/trackers_side_experiments/shuffle_halved/nestcv_5cat_twotrain_OT2_m1_T3V4.csv',\n",
       " '/home/csutter/DRIVE-clean/trackers_side_experiments/shuffle_halved/nestcv_5cat_twotrain_OT0_m1_T2V3.csv',\n",
       " '/home/csutter/DRIVE-clean/trackers_side_experiments/shuffle_halved/nestcv_5cat_twotrain_OT4_m4_T3V5.csv',\n",
       " '/home/csutter/DRIVE-clean/trackers_side_experiments/shuffle_halved/nestcv_5cat_twotrain_OT2_m4_T1V3.csv',\n",
       " '/home/csutter/DRIVE-clean/trackers_side_experiments/shuffle_halved/nestcv_5cat_twotrain_OT2_m2_T4V5.csv',\n",
       " '/home/csutter/DRIVE-clean/trackers_side_experiments/shuffle_halved/nestcv_5cat_twotrain_OT1_m4_T0V2.csv',\n",
       " '/home/csutter/DRIVE-clean/trackers_side_experiments/shuffle_halved/nestcv_5cat_twotrain_OT3_m3_T5V0.csv',\n",
       " '/home/csutter/DRIVE-clean/trackers_side_experiments/shuffle_halved/nestcv_5cat_twotrain_OT3_m0_T0V1.csv',\n",
       " '/home/csutter/DRIVE-clean/trackers_side_experiments/shuffle_halved/nestcv_5cat_twotrain_OT5_m1_T1V2.csv',\n",
       " '/home/csutter/DRIVE-clean/trackers_side_experiments/shuffle_halved/nestcv_5cat_twotrain_OT1_m1_T3V4.csv',\n",
       " '/home/csutter/DRIVE-clean/trackers_side_experiments/shuffle_halved/nestcv_5cat_twotrain_OT2_m3_T5V0.csv',\n",
       " '/home/csutter/DRIVE-clean/trackers_side_experiments/shuffle_halved/nestcv_5cat_twotrain_OT4_m1_T1V2.csv',\n",
       " '/home/csutter/DRIVE-clean/trackers_side_experiments/shuffle_halved/nestcv_5cat_twotrain_OT1_m0_T2V3.csv',\n",
       " '/home/csutter/DRIVE-clean/trackers_side_experiments/shuffle_halved/nestcv_5cat_twotrain_OT3_m2_T4V5.csv',\n",
       " '/home/csutter/DRIVE-clean/trackers_side_experiments/shuffle_halved/nestcv_5cat_twotrain_OT0_m0_T1V2.csv']"
      ]
     },
     "execution_count": 5,
     "metadata": {},
     "output_type": "execute_result"
    }
   ],
   "source": [
    "glob(\"/home/csutter/DRIVE-clean/trackers_side_experiments/shuffle_halved/*\")"
   ]
  },
  {
   "cell_type": "code",
   "execution_count": null,
   "metadata": {},
   "outputs": [],
   "source": []
  }
 ],
 "metadata": {
  "kernelspec": {
   "display_name": "Python 3.10.12 ('vowels_node': conda)",
   "language": "python",
   "name": "python3"
  },
  "language_info": {
   "codemirror_mode": {
    "name": "ipython",
    "version": 3
   },
   "file_extension": ".py",
   "mimetype": "text/x-python",
   "name": "python",
   "nbconvert_exporter": "python",
   "pygments_lexer": "ipython3",
   "version": "3.10.12"
  },
  "orig_nbformat": 4,
  "vscode": {
   "interpreter": {
    "hash": "7c7b92ab39bc898f8e2ee7f2721b663fb0385112dc1b4d72f14e65c720eb44fd"
   }
  }
 },
 "nbformat": 4,
 "nbformat_minor": 2
}
